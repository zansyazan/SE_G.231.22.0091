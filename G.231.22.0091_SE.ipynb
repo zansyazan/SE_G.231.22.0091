{
  "nbformat": 4,
  "nbformat_minor": 0,
  "metadata": {
    "colab": {
      "provenance": []
    },
    "kernelspec": {
      "name": "python3",
      "display_name": "Python 3"
    },
    "language_info": {
      "name": "python"
    }
  },
  "cells": [
    {
      "cell_type": "code",
      "source": [
        "import webbrowser\n",
        "\n",
        "website = input(\"Search Website (google/faokcebook): \")\n",
        "\n",
        "if website.lower() == \"google\":\n",
        "    query = input(\"Search: \")\n",
        "    search_url = f\"https://www.google.com/search?q={query}\"\n",
        "    webbrowser.open(search_url)\n",
        "elif website.lower() == \"facebook\":\n",
        "    query = input(\"Search: \")\n",
        "    search_url = f\"https://www.facebook.com/search/top/?q={query}\"\n",
        "    webbrowser.open(search_url)\n",
        "else:\n",
        "    print(\"Ketikkan google/facebook\")\n"
      ],
      "metadata": {
        "colab": {
          "base_uri": "https://localhost:8080/"
        },
        "id": "jxfgMSq8PBay",
        "outputId": "cfac5960-df89-4320-f095-56f5ef83aeab"
      },
      "execution_count": 5,
      "outputs": [
        {
          "name": "stdout",
          "output_type": "stream",
          "text": [
            "Search Website (google/facebook): facebook\n",
            "Search: facebook\n"
          ]
        }
      ]
    }
  ]
}